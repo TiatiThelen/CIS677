{
 "cells": [
  {
   "cell_type": "code",
   "execution_count": 1,
   "id": "4295e058",
   "metadata": {},
   "outputs": [],
   "source": [
    "import pandas as pd\n",
    "import numpy as np"
   ]
  },
  {
   "cell_type": "code",
   "execution_count": 2,
   "id": "e3702f23",
   "metadata": {},
   "outputs": [],
   "source": [
    "glass = pd.read_csv('glass.csv')"
   ]
  },
  {
   "cell_type": "code",
   "execution_count": 3,
   "id": "8a91d42c",
   "metadata": {},
   "outputs": [
    {
     "data": {
      "text/html": [
       "<div>\n",
       "<style scoped>\n",
       "    .dataframe tbody tr th:only-of-type {\n",
       "        vertical-align: middle;\n",
       "    }\n",
       "\n",
       "    .dataframe tbody tr th {\n",
       "        vertical-align: top;\n",
       "    }\n",
       "\n",
       "    .dataframe thead th {\n",
       "        text-align: right;\n",
       "    }\n",
       "</style>\n",
       "<table border=\"1\" class=\"dataframe\">\n",
       "  <thead>\n",
       "    <tr style=\"text-align: right;\">\n",
       "      <th></th>\n",
       "      <th>RI</th>\n",
       "      <th>Na</th>\n",
       "      <th>Mg</th>\n",
       "      <th>Al</th>\n",
       "      <th>Si</th>\n",
       "      <th>K</th>\n",
       "      <th>Ca</th>\n",
       "      <th>Ba</th>\n",
       "      <th>Fe</th>\n",
       "      <th>Type</th>\n",
       "    </tr>\n",
       "  </thead>\n",
       "  <tbody>\n",
       "    <tr>\n",
       "      <th>0</th>\n",
       "      <td>1.52101</td>\n",
       "      <td>13.64</td>\n",
       "      <td>4.49</td>\n",
       "      <td>1.10</td>\n",
       "      <td>71.78</td>\n",
       "      <td>0.06</td>\n",
       "      <td>8.75</td>\n",
       "      <td>0.0</td>\n",
       "      <td>0.0</td>\n",
       "      <td>1</td>\n",
       "    </tr>\n",
       "    <tr>\n",
       "      <th>1</th>\n",
       "      <td>1.51761</td>\n",
       "      <td>13.89</td>\n",
       "      <td>3.60</td>\n",
       "      <td>1.36</td>\n",
       "      <td>72.73</td>\n",
       "      <td>0.48</td>\n",
       "      <td>7.83</td>\n",
       "      <td>0.0</td>\n",
       "      <td>0.0</td>\n",
       "      <td>1</td>\n",
       "    </tr>\n",
       "    <tr>\n",
       "      <th>2</th>\n",
       "      <td>1.51618</td>\n",
       "      <td>13.53</td>\n",
       "      <td>3.55</td>\n",
       "      <td>1.54</td>\n",
       "      <td>72.99</td>\n",
       "      <td>0.39</td>\n",
       "      <td>7.78</td>\n",
       "      <td>0.0</td>\n",
       "      <td>0.0</td>\n",
       "      <td>1</td>\n",
       "    </tr>\n",
       "    <tr>\n",
       "      <th>3</th>\n",
       "      <td>1.51766</td>\n",
       "      <td>13.21</td>\n",
       "      <td>3.69</td>\n",
       "      <td>1.29</td>\n",
       "      <td>72.61</td>\n",
       "      <td>0.57</td>\n",
       "      <td>8.22</td>\n",
       "      <td>0.0</td>\n",
       "      <td>0.0</td>\n",
       "      <td>1</td>\n",
       "    </tr>\n",
       "    <tr>\n",
       "      <th>4</th>\n",
       "      <td>1.51742</td>\n",
       "      <td>13.27</td>\n",
       "      <td>3.62</td>\n",
       "      <td>1.24</td>\n",
       "      <td>73.08</td>\n",
       "      <td>0.55</td>\n",
       "      <td>8.07</td>\n",
       "      <td>0.0</td>\n",
       "      <td>0.0</td>\n",
       "      <td>1</td>\n",
       "    </tr>\n",
       "  </tbody>\n",
       "</table>\n",
       "</div>"
      ],
      "text/plain": [
       "        RI     Na    Mg    Al     Si     K    Ca   Ba   Fe  Type\n",
       "0  1.52101  13.64  4.49  1.10  71.78  0.06  8.75  0.0  0.0     1\n",
       "1  1.51761  13.89  3.60  1.36  72.73  0.48  7.83  0.0  0.0     1\n",
       "2  1.51618  13.53  3.55  1.54  72.99  0.39  7.78  0.0  0.0     1\n",
       "3  1.51766  13.21  3.69  1.29  72.61  0.57  8.22  0.0  0.0     1\n",
       "4  1.51742  13.27  3.62  1.24  73.08  0.55  8.07  0.0  0.0     1"
      ]
     },
     "execution_count": 3,
     "metadata": {},
     "output_type": "execute_result"
    }
   ],
   "source": [
    "glass.head()"
   ]
  },
  {
   "cell_type": "code",
   "execution_count": 4,
   "id": "8dcd9476",
   "metadata": {},
   "outputs": [
    {
     "data": {
      "text/plain": [
       "RI      0\n",
       "Na      0\n",
       "Mg      0\n",
       "Al      0\n",
       "Si      0\n",
       "K       0\n",
       "Ca      0\n",
       "Ba      0\n",
       "Fe      0\n",
       "Type    0\n",
       "dtype: int64"
      ]
     },
     "execution_count": 4,
     "metadata": {},
     "output_type": "execute_result"
    }
   ],
   "source": [
    "glass.isnull().sum()"
   ]
  },
  {
   "cell_type": "markdown",
   "id": "d307a9a6",
   "metadata": {},
   "source": [
    "   "
   ]
  },
  {
   "cell_type": "markdown",
   "id": "09b6b728",
   "metadata": {},
   "source": [
    "   "
   ]
  },
  {
   "cell_type": "markdown",
   "id": "4b13bf69",
   "metadata": {},
   "source": [
    "# Random Forest"
   ]
  },
  {
   "cell_type": "code",
   "execution_count": 5,
   "id": "a1d550e0",
   "metadata": {},
   "outputs": [],
   "source": [
    "from sklearn.model_selection import train_test_split\n",
    "from sklearn.ensemble import RandomForestClassifier\n",
    "from sklearn.metrics import accuracy_score, roc_auc_score\n",
    "from sklearn.metrics import mean_squared_error\n",
    "from sklearn.metrics import confusion_matrix"
   ]
  },
  {
   "cell_type": "code",
   "execution_count": 6,
   "id": "66cd5c20",
   "metadata": {},
   "outputs": [],
   "source": [
    "X = glass.drop(columns=['Type'], axis=1)\n",
    "y = glass['Type']"
   ]
  },
  {
   "cell_type": "code",
   "execution_count": null,
   "id": "80844e12",
   "metadata": {},
   "outputs": [],
   "source": []
  },
  {
   "cell_type": "code",
   "execution_count": 7,
   "id": "6b740057",
   "metadata": {},
   "outputs": [],
   "source": [
    "X_train, X_test, y_train, y_test = train_test_split(X, y, train_size=0.8, random_state=42)"
   ]
  },
  {
   "cell_type": "code",
   "execution_count": 8,
   "id": "78b310bb",
   "metadata": {},
   "outputs": [
    {
     "data": {
      "text/html": [
       "<div>\n",
       "<style scoped>\n",
       "    .dataframe tbody tr th:only-of-type {\n",
       "        vertical-align: middle;\n",
       "    }\n",
       "\n",
       "    .dataframe tbody tr th {\n",
       "        vertical-align: top;\n",
       "    }\n",
       "\n",
       "    .dataframe thead th {\n",
       "        text-align: right;\n",
       "    }\n",
       "</style>\n",
       "<table border=\"1\" class=\"dataframe\">\n",
       "  <thead>\n",
       "    <tr style=\"text-align: right;\">\n",
       "      <th></th>\n",
       "      <th>RI</th>\n",
       "      <th>Na</th>\n",
       "      <th>Mg</th>\n",
       "      <th>Al</th>\n",
       "      <th>Si</th>\n",
       "      <th>K</th>\n",
       "      <th>Ca</th>\n",
       "      <th>Ba</th>\n",
       "      <th>Fe</th>\n",
       "    </tr>\n",
       "  </thead>\n",
       "  <tbody>\n",
       "    <tr>\n",
       "      <th>79</th>\n",
       "      <td>1.51590</td>\n",
       "      <td>12.82</td>\n",
       "      <td>3.52</td>\n",
       "      <td>1.90</td>\n",
       "      <td>72.86</td>\n",
       "      <td>0.69</td>\n",
       "      <td>7.97</td>\n",
       "      <td>0.00</td>\n",
       "      <td>0.00</td>\n",
       "    </tr>\n",
       "    <tr>\n",
       "      <th>161</th>\n",
       "      <td>1.51934</td>\n",
       "      <td>13.64</td>\n",
       "      <td>3.54</td>\n",
       "      <td>0.75</td>\n",
       "      <td>72.65</td>\n",
       "      <td>0.16</td>\n",
       "      <td>8.89</td>\n",
       "      <td>0.15</td>\n",
       "      <td>0.24</td>\n",
       "    </tr>\n",
       "    <tr>\n",
       "      <th>109</th>\n",
       "      <td>1.51818</td>\n",
       "      <td>13.72</td>\n",
       "      <td>0.00</td>\n",
       "      <td>0.56</td>\n",
       "      <td>74.45</td>\n",
       "      <td>0.00</td>\n",
       "      <td>10.99</td>\n",
       "      <td>0.00</td>\n",
       "      <td>0.00</td>\n",
       "    </tr>\n",
       "    <tr>\n",
       "      <th>127</th>\n",
       "      <td>1.52081</td>\n",
       "      <td>13.78</td>\n",
       "      <td>2.28</td>\n",
       "      <td>1.43</td>\n",
       "      <td>71.99</td>\n",
       "      <td>0.49</td>\n",
       "      <td>9.85</td>\n",
       "      <td>0.00</td>\n",
       "      <td>0.17</td>\n",
       "    </tr>\n",
       "    <tr>\n",
       "      <th>95</th>\n",
       "      <td>1.51860</td>\n",
       "      <td>13.36</td>\n",
       "      <td>3.43</td>\n",
       "      <td>1.43</td>\n",
       "      <td>72.26</td>\n",
       "      <td>0.51</td>\n",
       "      <td>8.60</td>\n",
       "      <td>0.00</td>\n",
       "      <td>0.00</td>\n",
       "    </tr>\n",
       "  </tbody>\n",
       "</table>\n",
       "</div>"
      ],
      "text/plain": [
       "          RI     Na    Mg    Al     Si     K     Ca    Ba    Fe\n",
       "79   1.51590  12.82  3.52  1.90  72.86  0.69   7.97  0.00  0.00\n",
       "161  1.51934  13.64  3.54  0.75  72.65  0.16   8.89  0.15  0.24\n",
       "109  1.51818  13.72  0.00  0.56  74.45  0.00  10.99  0.00  0.00\n",
       "127  1.52081  13.78  2.28  1.43  71.99  0.49   9.85  0.00  0.17\n",
       "95   1.51860  13.36  3.43  1.43  72.26  0.51   8.60  0.00  0.00"
      ]
     },
     "execution_count": 8,
     "metadata": {},
     "output_type": "execute_result"
    }
   ],
   "source": [
    "X_train.head()"
   ]
  },
  {
   "cell_type": "code",
   "execution_count": 9,
   "id": "ba7033ae",
   "metadata": {},
   "outputs": [
    {
     "data": {
      "text/plain": [
       "79     2\n",
       "161    3\n",
       "109    2\n",
       "127    2\n",
       "95     2\n",
       "Name: Type, dtype: int64"
      ]
     },
     "execution_count": 9,
     "metadata": {},
     "output_type": "execute_result"
    }
   ],
   "source": [
    "y_train.head()"
   ]
  },
  {
   "cell_type": "code",
   "execution_count": 10,
   "id": "c2a7782f",
   "metadata": {},
   "outputs": [
    {
     "data": {
      "text/plain": [
       "RandomForestClassifier()"
      ]
     },
     "execution_count": 10,
     "metadata": {},
     "output_type": "execute_result"
    }
   ],
   "source": [
    "rf_model = RandomForestClassifier()\n",
    "rf_model.fit(X_train, y_train)"
   ]
  },
  {
   "cell_type": "code",
   "execution_count": 11,
   "id": "a82c76f6",
   "metadata": {},
   "outputs": [],
   "source": [
    "y_pred = rf_model.predict(X_test)\n",
    "accuracy = accuracy_score(y_test, y_pred)"
   ]
  },
  {
   "cell_type": "code",
   "execution_count": 12,
   "id": "8c1668f3",
   "metadata": {},
   "outputs": [
    {
     "name": "stdout",
     "output_type": "stream",
     "text": [
      "0.8372093023255814\n"
     ]
    }
   ],
   "source": [
    "print(accuracy)"
   ]
  },
  {
   "cell_type": "markdown",
   "id": "2f96fac5",
   "metadata": {},
   "source": [
    "### Random Forest Accuracy: 83.7%"
   ]
  },
  {
   "cell_type": "markdown",
   "id": "c6e295dc",
   "metadata": {},
   "source": [
    "  "
   ]
  },
  {
   "cell_type": "markdown",
   "id": "bc049f9d",
   "metadata": {},
   "source": [
    "  "
   ]
  },
  {
   "cell_type": "markdown",
   "id": "a41b6afa",
   "metadata": {},
   "source": [
    "   "
   ]
  },
  {
   "cell_type": "markdown",
   "id": "5f95f14b",
   "metadata": {},
   "source": [
    "# Random Search"
   ]
  },
  {
   "cell_type": "code",
   "execution_count": 13,
   "id": "62d27180",
   "metadata": {},
   "outputs": [],
   "source": [
    "from sklearn.model_selection import RandomizedSearchCV"
   ]
  },
  {
   "cell_type": "code",
   "execution_count": 14,
   "id": "c5886567",
   "metadata": {},
   "outputs": [
    {
     "data": {
      "text/plain": [
       "RandomizedSearchCV(estimator=RandomForestClassifier(), n_iter=50,\n",
       "                   param_distributions={'bootstrap': [True, False],\n",
       "                                        'max_depth': [2, 3, 4, 5, 6, 7, 8, 9,\n",
       "                                                      10, 11, 12, 13, 14, 15,\n",
       "                                                      16, 17, 18, 19],\n",
       "                                        'max_features': ['auto', 'sqrt'],\n",
       "                                        'min_samples_leaf': [1, 2, 3, 4, 5, 6,\n",
       "                                                             7, 8, 9, 10, 11,\n",
       "                                                             12, 13, 14, 15, 16,\n",
       "                                                             17, 18, 19, 20, 21,\n",
       "                                                             22, 23, 24, 25, 26,\n",
       "                                                             27, 28, 29, 30, ...],\n",
       "                                        'n_estimators': [100, 110, 120, 130,\n",
       "                                                         140, 150, 160, 170,\n",
       "                                                         180, 190, 200, 210,\n",
       "                                                         220, 230, 240, 250,\n",
       "                                                         260, 270, 280, 290]})"
      ]
     },
     "execution_count": 14,
     "metadata": {},
     "output_type": "execute_result"
    }
   ],
   "source": [
    "# specify distributions to sample from\n",
    "param_dist = {'n_estimators': list(range(100, 300, 10)),\n",
    "              'min_samples_leaf': list(range(1, 50)),\n",
    "              'max_depth': list(range(2, 20)),\n",
    "              'max_features': ['auto', 'sqrt'],\n",
    "              'bootstrap': [True, False]}\n",
    "\n",
    "# specify number of search iterations\n",
    "n_iter_search = 50\n",
    "\n",
    "# Instantiate RandomSearchCV\n",
    "model_random_search = RandomizedSearchCV(estimator=rf_model,\n",
    "                                         param_distributions=param_dist,\n",
    "                                         n_iter=n_iter_search)\n",
    "\n",
    "\n",
    "# Fit the selected model\n",
    "model_random_search.fit(X_train, y_train)"
   ]
  },
  {
   "cell_type": "code",
   "execution_count": 15,
   "id": "8749d239",
   "metadata": {},
   "outputs": [],
   "source": [
    "y_pred_random = model_random_search.predict(X_test)\n",
    "accuracy_random = accuracy_score(y_test, y_pred_random)"
   ]
  },
  {
   "cell_type": "code",
   "execution_count": 16,
   "id": "1eab2cdf",
   "metadata": {},
   "outputs": [
    {
     "name": "stdout",
     "output_type": "stream",
     "text": [
      "0.8604651162790697\n"
     ]
    }
   ],
   "source": [
    "print(accuracy_random)"
   ]
  },
  {
   "cell_type": "markdown",
   "id": "d84451e4",
   "metadata": {},
   "source": [
    "### Random Search Accuracy: 86%"
   ]
  },
  {
   "cell_type": "markdown",
   "id": "0275bfc7",
   "metadata": {},
   "source": [
    "   "
   ]
  },
  {
   "cell_type": "code",
   "execution_count": 38,
   "id": "64302f14",
   "metadata": {
    "scrolled": true
   },
   "outputs": [
    {
     "name": "stdout",
     "output_type": "stream",
     "text": [
      "109    {'bootstrap': True, 'max_depth': 10, 'max_feat...\n",
      "Name: params, dtype: object\n",
      "{'n_estimators': 230, 'min_samples_leaf': 2, 'max_features': 'auto', 'max_depth': 18, 'bootstrap': True}\n"
     ]
    }
   ],
   "source": [
    "cv_results_random = pd.DataFrame(model_gridsearch.cv_results_)\n",
    "\n",
    "print(cv_results_random.loc[cv_results_random['rank_test_score'] == 1, 'params'])\n",
    "\n",
    "print(model_random_search.best_params_)"
   ]
  },
  {
   "cell_type": "code",
   "execution_count": 39,
   "id": "c11bf4a0",
   "metadata": {},
   "outputs": [
    {
     "name": "stdout",
     "output_type": "stream",
     "text": [
      "RandomForestClassifier(max_depth=18, min_samples_leaf=2, n_estimators=230)\n"
     ]
    }
   ],
   "source": [
    "print(model_random_search.best_estimator_)"
   ]
  },
  {
   "cell_type": "markdown",
   "id": "91ed8a0a",
   "metadata": {},
   "source": [
    "   "
   ]
  },
  {
   "cell_type": "markdown",
   "id": "0257ad05",
   "metadata": {},
   "source": [
    "   "
   ]
  },
  {
   "cell_type": "markdown",
   "id": "2351bc03",
   "metadata": {},
   "source": [
    "   "
   ]
  },
  {
   "cell_type": "markdown",
   "id": "f2a83c59",
   "metadata": {},
   "source": [
    "# Grid Search"
   ]
  },
  {
   "cell_type": "code",
   "execution_count": 40,
   "id": "1e21ce1e",
   "metadata": {},
   "outputs": [],
   "source": [
    "from sklearn.model_selection import GridSearchCV"
   ]
  },
  {
   "cell_type": "code",
   "execution_count": null,
   "id": "5e20b64b",
   "metadata": {},
   "outputs": [],
   "source": []
  },
  {
   "cell_type": "code",
   "execution_count": 41,
   "id": "75d5af74",
   "metadata": {},
   "outputs": [
    {
     "data": {
      "text/plain": [
       "GridSearchCV(cv=5, estimator=RandomForestClassifier(), n_jobs=4,\n",
       "             param_grid={'bootstrap': [True, False],\n",
       "                         'max_depth': [2, 4, 6, 8, 10],\n",
       "                         'max_features': ['auto', 'sqrt'],\n",
       "                         'min_samples_leaf': [1, 5, 10],\n",
       "                         'n_estimators': [50, 100, 200, 300]},\n",
       "             return_train_score=True, scoring='accuracy')"
      ]
     },
     "execution_count": 41,
     "metadata": {},
     "output_type": "execute_result"
    }
   ],
   "source": [
    "# Define the grid\n",
    "param_grid = {'n_estimators': [50, 100, 200, 300],\n",
    "              'min_samples_leaf': [1, 5, 10],\n",
    "              'max_depth': [2, 4, 6, 8, 10],\n",
    "              'max_features': ['auto', 'sqrt'],\n",
    "              'bootstrap': [True, False]}\n",
    "\n",
    "# Instantiate GridSearchCV\n",
    "model_gridsearch = GridSearchCV(estimator=rf_model,\n",
    "                                param_grid=param_grid,\n",
    "                                scoring='accuracy',\n",
    "                                n_jobs=4,\n",
    "                                cv=5,\n",
    "                                refit=True,\n",
    "                                return_train_score=True\n",
    "                                )\n",
    "\n",
    "\n",
    "# Fit the selected model\n",
    "model_gridsearch.fit(X_train, y_train)"
   ]
  },
  {
   "cell_type": "code",
   "execution_count": 42,
   "id": "2942bd03",
   "metadata": {},
   "outputs": [],
   "source": [
    "y_pred_grid = model_gridsearch.predict(X_test)\n",
    "accuracy_grid = accuracy_score(y_test, y_pred_grid)"
   ]
  },
  {
   "cell_type": "code",
   "execution_count": 43,
   "id": "a8c55aa5",
   "metadata": {},
   "outputs": [
    {
     "name": "stdout",
     "output_type": "stream",
     "text": [
      "0.8372093023255814\n"
     ]
    }
   ],
   "source": [
    "print(accuracy_grid)"
   ]
  },
  {
   "cell_type": "markdown",
   "id": "824f1b2f",
   "metadata": {},
   "source": [
    "### Grid Search Accuracy: 83.7%"
   ]
  },
  {
   "cell_type": "markdown",
   "id": "f4f2f9ff",
   "metadata": {},
   "source": [
    "   "
   ]
  },
  {
   "cell_type": "code",
   "execution_count": 45,
   "id": "ba14f808",
   "metadata": {},
   "outputs": [
    {
     "data": {
      "text/plain": [
       "<bound method BaseEstimator.get_params of GridSearchCV(cv=5, estimator=RandomForestClassifier(), n_jobs=4,\n",
       "             param_grid={'bootstrap': [True, False],\n",
       "                         'max_depth': [2, 4, 6, 8, 10],\n",
       "                         'max_features': ['auto', 'sqrt'],\n",
       "                         'min_samples_leaf': [1, 5, 10],\n",
       "                         'n_estimators': [50, 100, 200, 300]},\n",
       "             return_train_score=True, scoring='accuracy')>"
      ]
     },
     "execution_count": 45,
     "metadata": {},
     "output_type": "execute_result"
    }
   ],
   "source": [
    "model_gridsearch.get_params"
   ]
  },
  {
   "cell_type": "code",
   "execution_count": 46,
   "id": "53b69409",
   "metadata": {},
   "outputs": [
    {
     "name": "stdout",
     "output_type": "stream",
     "text": [
      "86    {'bootstrap': True, 'max_depth': 8, 'max_featu...\n",
      "98    {'bootstrap': True, 'max_depth': 10, 'max_feat...\n",
      "Name: params, dtype: object\n",
      "{'bootstrap': True, 'max_depth': 8, 'max_features': 'sqrt', 'min_samples_leaf': 1, 'n_estimators': 200}\n"
     ]
    }
   ],
   "source": [
    "cv_results_df = pd.DataFrame(model_gridsearch.cv_results_)\n",
    "print(cv_results_df.loc[cv_results_df['rank_test_score'] == 1, 'params'])\n",
    "print(model_gridsearch.best_params_)"
   ]
  },
  {
   "cell_type": "code",
   "execution_count": 47,
   "id": "656e14ce",
   "metadata": {},
   "outputs": [
    {
     "name": "stdout",
     "output_type": "stream",
     "text": [
      "RandomForestClassifier(max_depth=8, max_features='sqrt', n_estimators=200)\n"
     ]
    }
   ],
   "source": [
    "print(model_gridsearch.best_estimator_)\n"
   ]
  },
  {
   "cell_type": "code",
   "execution_count": null,
   "id": "80ed474d",
   "metadata": {},
   "outputs": [],
   "source": []
  },
  {
   "cell_type": "code",
   "execution_count": null,
   "id": "dee25541",
   "metadata": {},
   "outputs": [],
   "source": []
  }
 ],
 "metadata": {
  "kernelspec": {
   "display_name": "Python 3 (ipykernel)",
   "language": "python",
   "name": "python3"
  },
  "language_info": {
   "codemirror_mode": {
    "name": "ipython",
    "version": 3
   },
   "file_extension": ".py",
   "mimetype": "text/x-python",
   "name": "python",
   "nbconvert_exporter": "python",
   "pygments_lexer": "ipython3",
   "version": "3.9.12"
  }
 },
 "nbformat": 4,
 "nbformat_minor": 5
}
